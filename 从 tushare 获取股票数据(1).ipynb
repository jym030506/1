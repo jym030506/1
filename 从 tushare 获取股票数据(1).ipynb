import tushare as ts
import pandas as pd
import pandas_ta as ta
import matplotlib.pyplot as plt
%matplotlib inline
pro = ts.pro_api('6a5b057584a3995b9ef4d109b3a058697a21b3ccc13d51f44e36b07d')
con_data = pro.index_weight(**{"index_code": "000300.SH","trade_date": "20230201"}, fields=["index_code","con_code","trade_date","weight"])
con_data
stock_random_50=np.random.choice(con_data["con_code"],50)
stocks=list(stock_random_50)
stocks
stocks_300=con_data["con_code"]
stocks=list(stocks_300)
data = pd.DataFrame()for stock in stocks:
    da = pro.daily(ts_code=stock, start_date='20200101',end_date='20230510').set_index(['trade_date'])
    data[stock] = da['close']
